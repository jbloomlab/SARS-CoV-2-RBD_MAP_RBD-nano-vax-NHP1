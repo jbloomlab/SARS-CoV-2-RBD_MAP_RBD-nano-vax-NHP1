{
 "cells": [
  {
   "cell_type": "markdown",
   "metadata": {},
   "source": [
    "# Create SRA submission sheet\n",
    "This Python Jupyter notebook creates a BioSample submission sheet for the Sequence Read Archive:\n",
    "\n",
    "First, import Python modules:"
   ]
  },
  {
   "cell_type": "code",
   "execution_count": 1,
   "metadata": {
    "execution": {
     "iopub.execute_input": "2021-03-17T00:43:23.537716Z",
     "iopub.status.busy": "2021-03-17T00:43:23.537349Z",
     "iopub.status.idle": "2021-03-17T00:43:26.365614Z",
     "shell.execute_reply": "2021-03-17T00:43:26.364739Z",
     "shell.execute_reply.started": "2021-03-17T00:43:23.537631Z"
    }
   },
   "outputs": [],
   "source": [
    "import datetime\n",
    "import glob\n",
    "import itertools\n",
    "import os\n",
    "\n",
    "import natsort\n",
    "\n",
    "import pandas as pd\n",
    "\n",
    "import yaml"
   ]
  },
  {
   "cell_type": "markdown",
   "metadata": {},
   "source": [
    "Display full columns of data frames:"
   ]
  },
  {
   "cell_type": "code",
   "execution_count": 2,
   "metadata": {
    "execution": {
     "iopub.execute_input": "2021-03-17T00:43:26.367141Z",
     "iopub.status.busy": "2021-03-17T00:43:26.366870Z",
     "iopub.status.idle": "2021-03-17T00:43:26.370647Z",
     "shell.execute_reply": "2021-03-17T00:43:26.369783Z",
     "shell.execute_reply.started": "2021-03-17T00:43:26.367116Z"
    }
   },
   "outputs": [],
   "source": [
    "pd.set_option('display.max_colwidth', None)"
   ]
  },
  {
   "cell_type": "markdown",
   "metadata": {},
   "source": [
    "Read the configuration for the uploads:"
   ]
  },
  {
   "cell_type": "code",
   "execution_count": 3,
   "metadata": {
    "execution": {
     "iopub.execute_input": "2021-03-17T00:43:26.372490Z",
     "iopub.status.busy": "2021-03-17T00:43:26.372237Z",
     "iopub.status.idle": "2021-03-17T00:43:26.378046Z",
     "shell.execute_reply": "2021-03-17T00:43:26.377304Z",
     "shell.execute_reply.started": "2021-03-17T00:43:26.372465Z"
    }
   },
   "outputs": [],
   "source": [
    "with open('upload_config.yaml') as f:\n",
    "    config = yaml.safe_load(f)"
   ]
  },
  {
   "cell_type": "markdown",
   "metadata": {},
   "source": [
    "Read the Illumina runs to submit:"
   ]
  },
  {
   "cell_type": "code",
   "execution_count": 4,
   "metadata": {
    "execution": {
     "iopub.execute_input": "2021-03-17T00:43:26.379627Z",
     "iopub.status.busy": "2021-03-17T00:43:26.379364Z",
     "iopub.status.idle": "2021-03-17T00:43:26.409502Z",
     "shell.execute_reply": "2021-03-17T00:43:26.408675Z",
     "shell.execute_reply.started": "2021-03-17T00:43:26.379602Z"
    }
   },
   "outputs": [
    {
     "name": "stdout",
     "output_type": "stream",
     "text": [
      "Reading Illumina runs from barcode_runs_RBD-nano-vax-NHP1.csv\n",
      "Here are the first few entries in the Illumina runs:\n"
     ]
    },
    {
     "data": {
      "text/html": [
       "<div>\n",
       "<style scoped>\n",
       "    .dataframe tbody tr th:only-of-type {\n",
       "        vertical-align: middle;\n",
       "    }\n",
       "\n",
       "    .dataframe tbody tr th {\n",
       "        vertical-align: top;\n",
       "    }\n",
       "\n",
       "    .dataframe thead th {\n",
       "        text-align: right;\n",
       "    }\n",
       "</style>\n",
       "<table border=\"1\" class=\"dataframe\">\n",
       "  <thead>\n",
       "    <tr style=\"text-align: right;\">\n",
       "      <th></th>\n",
       "      <th>library</th>\n",
       "      <th>sample</th>\n",
       "      <th>date</th>\n",
       "      <th>experiment</th>\n",
       "      <th>antibody</th>\n",
       "      <th>concentration</th>\n",
       "      <th>concentration_units</th>\n",
       "      <th>group</th>\n",
       "      <th>selection</th>\n",
       "      <th>frac_escape</th>\n",
       "      <th>cells_sorted</th>\n",
       "      <th>R1</th>\n",
       "    </tr>\n",
       "  </thead>\n",
       "  <tbody>\n",
       "    <tr>\n",
       "      <th>0</th>\n",
       "      <td>lib1</td>\n",
       "      <td>expt_107-116-none-0-reference</td>\n",
       "      <td>210216</td>\n",
       "      <td>expt_107-116</td>\n",
       "      <td>none</td>\n",
       "      <td>0</td>\n",
       "      <td>dilution</td>\n",
       "      <td>Moderna</td>\n",
       "      <td>reference</td>\n",
       "      <td>NaN</td>\n",
       "      <td>NaN</td>\n",
       "      <td>/shared/ngs/illumina/agreaney/210219_D00300_1182_AHKH22BCX3/Unaligned/Project_agreaney/expt_97-106_lib1_ref_*R1*.fastq.gz</td>\n",
       "    </tr>\n",
       "    <tr>\n",
       "      <th>1</th>\n",
       "      <td>lib2</td>\n",
       "      <td>expt_107-116-none-0-reference</td>\n",
       "      <td>210216</td>\n",
       "      <td>expt_107-116</td>\n",
       "      <td>none</td>\n",
       "      <td>0</td>\n",
       "      <td>dilution</td>\n",
       "      <td>Moderna</td>\n",
       "      <td>reference</td>\n",
       "      <td>NaN</td>\n",
       "      <td>NaN</td>\n",
       "      <td>/shared/ngs/illumina/agreaney/210219_D00300_1182_AHKH22BCX3/Unaligned/Project_agreaney/expt_97-106_lib2_ref_*R1*.fastq.gz</td>\n",
       "    </tr>\n",
       "    <tr>\n",
       "      <th>2</th>\n",
       "      <td>lib1</td>\n",
       "      <td>expt_115-NHP-serum-1000-escape</td>\n",
       "      <td>210216</td>\n",
       "      <td>expt_115</td>\n",
       "      <td>NHP-serum</td>\n",
       "      <td>1000</td>\n",
       "      <td>dilution</td>\n",
       "      <td>Lexi_vaccine</td>\n",
       "      <td>escape</td>\n",
       "      <td>0.047</td>\n",
       "      <td>454104.0</td>\n",
       "      <td>/shared/ngs/illumina/agreaney/210219_D00300_1182_AHKH22BCX3/Unaligned/Project_agreaney/expt_115_lib1_abneg_*R1*.fastq.gz</td>\n",
       "    </tr>\n",
       "    <tr>\n",
       "      <th>3</th>\n",
       "      <td>lib2</td>\n",
       "      <td>expt_115-NHP-serum-1000-escape</td>\n",
       "      <td>210216</td>\n",
       "      <td>expt_115</td>\n",
       "      <td>NHP-serum</td>\n",
       "      <td>1000</td>\n",
       "      <td>dilution</td>\n",
       "      <td>Lexi_vaccine</td>\n",
       "      <td>escape</td>\n",
       "      <td>0.051</td>\n",
       "      <td>457684.0</td>\n",
       "      <td>/shared/ngs/illumina/agreaney/210219_D00300_1182_AHKH22BCX3/Unaligned/Project_agreaney/expt_115_lib2_abneg_*R1*.fastq.gz</td>\n",
       "    </tr>\n",
       "  </tbody>\n",
       "</table>\n",
       "</div>"
      ],
      "text/plain": [
       "  library                          sample    date    experiment   antibody  \\\n",
       "0    lib1   expt_107-116-none-0-reference  210216  expt_107-116       none   \n",
       "1    lib2   expt_107-116-none-0-reference  210216  expt_107-116       none   \n",
       "2    lib1  expt_115-NHP-serum-1000-escape  210216      expt_115  NHP-serum   \n",
       "3    lib2  expt_115-NHP-serum-1000-escape  210216      expt_115  NHP-serum   \n",
       "\n",
       "   concentration concentration_units         group  selection  frac_escape  \\\n",
       "0              0            dilution       Moderna  reference          NaN   \n",
       "1              0            dilution       Moderna  reference          NaN   \n",
       "2           1000            dilution  Lexi_vaccine     escape        0.047   \n",
       "3           1000            dilution  Lexi_vaccine     escape        0.051   \n",
       "\n",
       "   cells_sorted  \\\n",
       "0           NaN   \n",
       "1           NaN   \n",
       "2      454104.0   \n",
       "3      457684.0   \n",
       "\n",
       "                                                                                                                          R1  \n",
       "0  /shared/ngs/illumina/agreaney/210219_D00300_1182_AHKH22BCX3/Unaligned/Project_agreaney/expt_97-106_lib1_ref_*R1*.fastq.gz  \n",
       "1  /shared/ngs/illumina/agreaney/210219_D00300_1182_AHKH22BCX3/Unaligned/Project_agreaney/expt_97-106_lib2_ref_*R1*.fastq.gz  \n",
       "2   /shared/ngs/illumina/agreaney/210219_D00300_1182_AHKH22BCX3/Unaligned/Project_agreaney/expt_115_lib1_abneg_*R1*.fastq.gz  \n",
       "3   /shared/ngs/illumina/agreaney/210219_D00300_1182_AHKH22BCX3/Unaligned/Project_agreaney/expt_115_lib2_abneg_*R1*.fastq.gz  "
      ]
     },
     "execution_count": 4,
     "metadata": {},
     "output_type": "execute_result"
    }
   ],
   "source": [
    "print(f\"Reading Illumina runs from {config['barcode_runs']}\")\n",
    "\n",
    "illumina_runs = pd.read_csv(config['barcode_runs'])\n",
    "\n",
    "print('Here are the first few entries in the Illumina runs:')\n",
    "illumina_runs.head()"
   ]
  },
  {
   "cell_type": "markdown",
   "metadata": {},
   "source": [
    "Next make submission entries for the barcode runs, initially in \"tidy\" format with one FASTQ file per row:"
   ]
  },
  {
   "cell_type": "code",
   "execution_count": 5,
   "metadata": {
    "execution": {
     "iopub.execute_input": "2021-03-17T00:43:26.410991Z",
     "iopub.status.busy": "2021-03-17T00:43:26.410663Z",
     "iopub.status.idle": "2021-03-17T00:43:26.498476Z",
     "shell.execute_reply": "2021-03-17T00:43:26.497831Z",
     "shell.execute_reply.started": "2021-03-17T00:43:26.410962Z"
    }
   },
   "outputs": [
    {
     "name": "stdout",
     "output_type": "stream",
     "text": [
      "Here are the first few submission entries in tidy format:\n"
     ]
    },
    {
     "data": {
      "text/html": [
       "<div>\n",
       "<style scoped>\n",
       "    .dataframe tbody tr th:only-of-type {\n",
       "        vertical-align: middle;\n",
       "    }\n",
       "\n",
       "    .dataframe tbody tr th {\n",
       "        vertical-align: top;\n",
       "    }\n",
       "\n",
       "    .dataframe thead th {\n",
       "        text-align: right;\n",
       "    }\n",
       "</style>\n",
       "<table border=\"1\" class=\"dataframe\">\n",
       "  <thead>\n",
       "    <tr style=\"text-align: right;\">\n",
       "      <th></th>\n",
       "      <th>biosample_accession</th>\n",
       "      <th>library_ID</th>\n",
       "      <th>title</th>\n",
       "      <th>library_strategy</th>\n",
       "      <th>library_source</th>\n",
       "      <th>library_selection</th>\n",
       "      <th>library_layout</th>\n",
       "      <th>platform</th>\n",
       "      <th>instrument_model</th>\n",
       "      <th>design_description</th>\n",
       "      <th>filetype</th>\n",
       "      <th>filename_fullpath</th>\n",
       "      <th>filename</th>\n",
       "    </tr>\n",
       "  </thead>\n",
       "  <tbody>\n",
       "    <tr>\n",
       "      <th>0</th>\n",
       "      <td>SAMN18322429</td>\n",
       "      <td>lib1_expt_107-116-none-0-reference</td>\n",
       "      <td>SARS-CoV-2 RBD mutational antig Illumina barcode sequencing for expt_107-116-none-0-reference</td>\n",
       "      <td>AMPLICON</td>\n",
       "      <td>SYNTHETIC</td>\n",
       "      <td>PCR</td>\n",
       "      <td>single</td>\n",
       "      <td>ILLUMINA</td>\n",
       "      <td>Illumina HiSeq 2500</td>\n",
       "      <td>PCR of barcodes from RBD variants</td>\n",
       "      <td>fastq</td>\n",
       "      <td>/shared/ngs/illumina/agreaney/210219_D00300_1182_AHKH22BCX3/Unaligned/Project_agreaney/expt_97-106_lib1_ref_S21_R1_001.fastq.gz</td>\n",
       "      <td>expt_97-106_lib1_ref_S21_R1_001.fastq.gz</td>\n",
       "    </tr>\n",
       "    <tr>\n",
       "      <th>1</th>\n",
       "      <td>SAMN18322429</td>\n",
       "      <td>lib2_expt_107-116-none-0-reference</td>\n",
       "      <td>SARS-CoV-2 RBD mutational antig Illumina barcode sequencing for expt_107-116-none-0-reference</td>\n",
       "      <td>AMPLICON</td>\n",
       "      <td>SYNTHETIC</td>\n",
       "      <td>PCR</td>\n",
       "      <td>single</td>\n",
       "      <td>ILLUMINA</td>\n",
       "      <td>Illumina HiSeq 2500</td>\n",
       "      <td>PCR of barcodes from RBD variants</td>\n",
       "      <td>fastq</td>\n",
       "      <td>/shared/ngs/illumina/agreaney/210219_D00300_1182_AHKH22BCX3/Unaligned/Project_agreaney/expt_97-106_lib2_ref_S22_R1_001.fastq.gz</td>\n",
       "      <td>expt_97-106_lib2_ref_S22_R1_001.fastq.gz</td>\n",
       "    </tr>\n",
       "    <tr>\n",
       "      <th>2</th>\n",
       "      <td>SAMN18322429</td>\n",
       "      <td>lib1_expt_115-NHP-serum-1000-escape</td>\n",
       "      <td>SARS-CoV-2 RBD mutational antig Illumina barcode sequencing for expt_115-NHP-serum-1000-escape</td>\n",
       "      <td>AMPLICON</td>\n",
       "      <td>SYNTHETIC</td>\n",
       "      <td>PCR</td>\n",
       "      <td>single</td>\n",
       "      <td>ILLUMINA</td>\n",
       "      <td>Illumina HiSeq 2500</td>\n",
       "      <td>PCR of barcodes from RBD variants</td>\n",
       "      <td>fastq</td>\n",
       "      <td>/shared/ngs/illumina/agreaney/210219_D00300_1182_AHKH22BCX3/Unaligned/Project_agreaney/expt_115_lib1_abneg_S17_R1_001.fastq.gz</td>\n",
       "      <td>expt_115_lib1_abneg_S17_R1_001.fastq.gz</td>\n",
       "    </tr>\n",
       "    <tr>\n",
       "      <th>3</th>\n",
       "      <td>SAMN18322429</td>\n",
       "      <td>lib2_expt_115-NHP-serum-1000-escape</td>\n",
       "      <td>SARS-CoV-2 RBD mutational antig Illumina barcode sequencing for expt_115-NHP-serum-1000-escape</td>\n",
       "      <td>AMPLICON</td>\n",
       "      <td>SYNTHETIC</td>\n",
       "      <td>PCR</td>\n",
       "      <td>single</td>\n",
       "      <td>ILLUMINA</td>\n",
       "      <td>Illumina HiSeq 2500</td>\n",
       "      <td>PCR of barcodes from RBD variants</td>\n",
       "      <td>fastq</td>\n",
       "      <td>/shared/ngs/illumina/agreaney/210219_D00300_1182_AHKH22BCX3/Unaligned/Project_agreaney/expt_115_lib2_abneg_S18_R1_001.fastq.gz</td>\n",
       "      <td>expt_115_lib2_abneg_S18_R1_001.fastq.gz</td>\n",
       "    </tr>\n",
       "  </tbody>\n",
       "</table>\n",
       "</div>"
      ],
      "text/plain": [
       "  biosample_accession                           library_ID  \\\n",
       "0        SAMN18322429   lib1_expt_107-116-none-0-reference   \n",
       "1        SAMN18322429   lib2_expt_107-116-none-0-reference   \n",
       "2        SAMN18322429  lib1_expt_115-NHP-serum-1000-escape   \n",
       "3        SAMN18322429  lib2_expt_115-NHP-serum-1000-escape   \n",
       "\n",
       "                                                                                            title  \\\n",
       "0   SARS-CoV-2 RBD mutational antig Illumina barcode sequencing for expt_107-116-none-0-reference   \n",
       "1   SARS-CoV-2 RBD mutational antig Illumina barcode sequencing for expt_107-116-none-0-reference   \n",
       "2  SARS-CoV-2 RBD mutational antig Illumina barcode sequencing for expt_115-NHP-serum-1000-escape   \n",
       "3  SARS-CoV-2 RBD mutational antig Illumina barcode sequencing for expt_115-NHP-serum-1000-escape   \n",
       "\n",
       "  library_strategy library_source library_selection library_layout  platform  \\\n",
       "0         AMPLICON      SYNTHETIC               PCR         single  ILLUMINA   \n",
       "1         AMPLICON      SYNTHETIC               PCR         single  ILLUMINA   \n",
       "2         AMPLICON      SYNTHETIC               PCR         single  ILLUMINA   \n",
       "3         AMPLICON      SYNTHETIC               PCR         single  ILLUMINA   \n",
       "\n",
       "      instrument_model                 design_description filetype  \\\n",
       "0  Illumina HiSeq 2500  PCR of barcodes from RBD variants    fastq   \n",
       "1  Illumina HiSeq 2500  PCR of barcodes from RBD variants    fastq   \n",
       "2  Illumina HiSeq 2500  PCR of barcodes from RBD variants    fastq   \n",
       "3  Illumina HiSeq 2500  PCR of barcodes from RBD variants    fastq   \n",
       "\n",
       "                                                                                                                 filename_fullpath  \\\n",
       "0  /shared/ngs/illumina/agreaney/210219_D00300_1182_AHKH22BCX3/Unaligned/Project_agreaney/expt_97-106_lib1_ref_S21_R1_001.fastq.gz   \n",
       "1  /shared/ngs/illumina/agreaney/210219_D00300_1182_AHKH22BCX3/Unaligned/Project_agreaney/expt_97-106_lib2_ref_S22_R1_001.fastq.gz   \n",
       "2   /shared/ngs/illumina/agreaney/210219_D00300_1182_AHKH22BCX3/Unaligned/Project_agreaney/expt_115_lib1_abneg_S17_R1_001.fastq.gz   \n",
       "3   /shared/ngs/illumina/agreaney/210219_D00300_1182_AHKH22BCX3/Unaligned/Project_agreaney/expt_115_lib2_abneg_S18_R1_001.fastq.gz   \n",
       "\n",
       "                                   filename  \n",
       "0  expt_97-106_lib1_ref_S21_R1_001.fastq.gz  \n",
       "1  expt_97-106_lib2_ref_S22_R1_001.fastq.gz  \n",
       "2   expt_115_lib1_abneg_S17_R1_001.fastq.gz  \n",
       "3   expt_115_lib2_abneg_S18_R1_001.fastq.gz  "
      ]
     },
     "execution_count": 5,
     "metadata": {},
     "output_type": "execute_result"
    }
   ],
   "source": [
    "submissions_tidy = (\n",
    "    illumina_runs\n",
    "    .assign(\n",
    "        biosample_accession=lambda x: config['biosample_accession'],\n",
    "        library_ID=lambda x: x['library'] + '_' + x['sample'],\n",
    "        title=lambda x: 'SARS-CoV-2 RBD mutational antig Illumina barcode sequencing for ' + x['sample'],\n",
    "        library_strategy='AMPLICON',\n",
    "        library_source='SYNTHETIC',\n",
    "        library_selection='PCR',\n",
    "        library_layout='single',\n",
    "        platform='ILLUMINA',\n",
    "        instrument_model='Illumina HiSeq 2500',\n",
    "        design_description='PCR of barcodes from RBD variants',\n",
    "        filetype='fastq',\n",
    "        filename_fullpath=lambda x: x['R1'].str.split(';')\n",
    "                                    .map(lambda flist: list(itertools.chain.from_iterable(glob.glob(f) for f in flist))),       \n",
    "        )\n",
    "    .explode('filename_fullpath')\n",
    "    .assign(filename_fullpath=lambda x: x['filename_fullpath'].str.strip(),\n",
    "            filename=lambda x: x['filename_fullpath'].map(os.path.basename))\n",
    "    .drop(columns=illumina_runs.columns)\n",
    "    .reset_index(drop=True)\n",
    "    )\n",
    "\n",
    "assert submissions_tidy['filename_fullpath'].map(os.path.isfile).all()\n",
    "\n",
    "print('Here are the first few submission entries in tidy format:')\n",
    "submissions_tidy.head()"
   ]
  },
  {
   "cell_type": "markdown",
   "metadata": {},
   "source": [
    "For the actual submission, we need a \"wide\" data frame that for each unique `sample_name` / `library_ID` gives all of the files each in different columns.\n",
    "These should be files without the full path.\n",
    "\n",
    "First, look at how many files there are for each sample / library:"
   ]
  },
  {
   "cell_type": "code",
   "execution_count": 6,
   "metadata": {
    "execution": {
     "iopub.execute_input": "2021-03-17T00:43:26.499622Z",
     "iopub.status.busy": "2021-03-17T00:43:26.499394Z",
     "iopub.status.idle": "2021-03-17T00:43:26.516181Z",
     "shell.execute_reply": "2021-03-17T00:43:26.515493Z",
     "shell.execute_reply.started": "2021-03-17T00:43:26.499601Z"
    }
   },
   "outputs": [
    {
     "data": {
      "text/html": [
       "<div>\n",
       "<style scoped>\n",
       "    .dataframe tbody tr th:only-of-type {\n",
       "        vertical-align: middle;\n",
       "    }\n",
       "\n",
       "    .dataframe tbody tr th {\n",
       "        vertical-align: top;\n",
       "    }\n",
       "\n",
       "    .dataframe thead th {\n",
       "        text-align: right;\n",
       "    }\n",
       "</style>\n",
       "<table border=\"1\" class=\"dataframe\">\n",
       "  <thead>\n",
       "    <tr style=\"text-align: right;\">\n",
       "      <th></th>\n",
       "      <th>biosample_accession</th>\n",
       "      <th>library_ID</th>\n",
       "      <th>n_files</th>\n",
       "    </tr>\n",
       "  </thead>\n",
       "  <tbody>\n",
       "    <tr>\n",
       "      <th>0</th>\n",
       "      <td>SAMN18322429</td>\n",
       "      <td>lib1_expt_107-116-none-0-reference</td>\n",
       "      <td>1</td>\n",
       "    </tr>\n",
       "    <tr>\n",
       "      <th>1</th>\n",
       "      <td>SAMN18322429</td>\n",
       "      <td>lib1_expt_115-NHP-serum-1000-escape</td>\n",
       "      <td>1</td>\n",
       "    </tr>\n",
       "    <tr>\n",
       "      <th>2</th>\n",
       "      <td>SAMN18322429</td>\n",
       "      <td>lib2_expt_107-116-none-0-reference</td>\n",
       "      <td>1</td>\n",
       "    </tr>\n",
       "    <tr>\n",
       "      <th>3</th>\n",
       "      <td>SAMN18322429</td>\n",
       "      <td>lib2_expt_115-NHP-serum-1000-escape</td>\n",
       "      <td>1</td>\n",
       "    </tr>\n",
       "  </tbody>\n",
       "</table>\n",
       "</div>"
      ],
      "text/plain": [
       "  biosample_accession                           library_ID  n_files\n",
       "0        SAMN18322429   lib1_expt_107-116-none-0-reference        1\n",
       "1        SAMN18322429  lib1_expt_115-NHP-serum-1000-escape        1\n",
       "2        SAMN18322429   lib2_expt_107-116-none-0-reference        1\n",
       "3        SAMN18322429  lib2_expt_115-NHP-serum-1000-escape        1"
      ]
     },
     "execution_count": 6,
     "metadata": {},
     "output_type": "execute_result"
    }
   ],
   "source": [
    "(submissions_tidy\n",
    " .groupby(['biosample_accession', 'library_ID'])\n",
    " .aggregate(n_files=pd.NamedAgg('filename_fullpath', 'count'))\n",
    " .sort_values('n_files', ascending=False)\n",
    " .reset_index()\n",
    " )"
   ]
  },
  {
   "cell_type": "markdown",
   "metadata": {},
   "source": [
    "Now make the wide submission data frame.\n",
    "Note we keep only the filename column with the path lacking the full directory information:"
   ]
  },
  {
   "cell_type": "code",
   "execution_count": 7,
   "metadata": {
    "execution": {
     "iopub.execute_input": "2021-03-17T00:43:26.517359Z",
     "iopub.status.busy": "2021-03-17T00:43:26.517114Z",
     "iopub.status.idle": "2021-03-17T00:43:26.544877Z",
     "shell.execute_reply": "2021-03-17T00:43:26.544192Z",
     "shell.execute_reply.started": "2021-03-17T00:43:26.517337Z"
    }
   },
   "outputs": [
    {
     "name": "stdout",
     "output_type": "stream",
     "text": [
      "Here are the first few submission entries in wide format:\n"
     ]
    },
    {
     "data": {
      "text/html": [
       "<div>\n",
       "<style scoped>\n",
       "    .dataframe tbody tr th:only-of-type {\n",
       "        vertical-align: middle;\n",
       "    }\n",
       "\n",
       "    .dataframe tbody tr th {\n",
       "        vertical-align: top;\n",
       "    }\n",
       "\n",
       "    .dataframe thead th {\n",
       "        text-align: right;\n",
       "    }\n",
       "</style>\n",
       "<table border=\"1\" class=\"dataframe\">\n",
       "  <thead>\n",
       "    <tr style=\"text-align: right;\">\n",
       "      <th></th>\n",
       "      <th>biosample_accession</th>\n",
       "      <th>library_ID</th>\n",
       "      <th>title</th>\n",
       "      <th>library_strategy</th>\n",
       "      <th>library_source</th>\n",
       "      <th>library_selection</th>\n",
       "      <th>library_layout</th>\n",
       "      <th>platform</th>\n",
       "      <th>instrument_model</th>\n",
       "      <th>design_description</th>\n",
       "      <th>filetype</th>\n",
       "      <th>filename</th>\n",
       "    </tr>\n",
       "  </thead>\n",
       "  <tbody>\n",
       "    <tr>\n",
       "      <th>0</th>\n",
       "      <td>SAMN18322429</td>\n",
       "      <td>lib1_expt_107-116-none-0-reference</td>\n",
       "      <td>SARS-CoV-2 RBD mutational antig Illumina barcode sequencing for expt_107-116-none-0-reference</td>\n",
       "      <td>AMPLICON</td>\n",
       "      <td>SYNTHETIC</td>\n",
       "      <td>PCR</td>\n",
       "      <td>single</td>\n",
       "      <td>ILLUMINA</td>\n",
       "      <td>Illumina HiSeq 2500</td>\n",
       "      <td>PCR of barcodes from RBD variants</td>\n",
       "      <td>fastq</td>\n",
       "      <td>expt_97-106_lib1_ref_S21_R1_001.fastq.gz</td>\n",
       "    </tr>\n",
       "    <tr>\n",
       "      <th>1</th>\n",
       "      <td>SAMN18322429</td>\n",
       "      <td>lib2_expt_107-116-none-0-reference</td>\n",
       "      <td>SARS-CoV-2 RBD mutational antig Illumina barcode sequencing for expt_107-116-none-0-reference</td>\n",
       "      <td>AMPLICON</td>\n",
       "      <td>SYNTHETIC</td>\n",
       "      <td>PCR</td>\n",
       "      <td>single</td>\n",
       "      <td>ILLUMINA</td>\n",
       "      <td>Illumina HiSeq 2500</td>\n",
       "      <td>PCR of barcodes from RBD variants</td>\n",
       "      <td>fastq</td>\n",
       "      <td>expt_97-106_lib2_ref_S22_R1_001.fastq.gz</td>\n",
       "    </tr>\n",
       "    <tr>\n",
       "      <th>2</th>\n",
       "      <td>SAMN18322429</td>\n",
       "      <td>lib1_expt_115-NHP-serum-1000-escape</td>\n",
       "      <td>SARS-CoV-2 RBD mutational antig Illumina barcode sequencing for expt_115-NHP-serum-1000-escape</td>\n",
       "      <td>AMPLICON</td>\n",
       "      <td>SYNTHETIC</td>\n",
       "      <td>PCR</td>\n",
       "      <td>single</td>\n",
       "      <td>ILLUMINA</td>\n",
       "      <td>Illumina HiSeq 2500</td>\n",
       "      <td>PCR of barcodes from RBD variants</td>\n",
       "      <td>fastq</td>\n",
       "      <td>expt_115_lib1_abneg_S17_R1_001.fastq.gz</td>\n",
       "    </tr>\n",
       "    <tr>\n",
       "      <th>3</th>\n",
       "      <td>SAMN18322429</td>\n",
       "      <td>lib2_expt_115-NHP-serum-1000-escape</td>\n",
       "      <td>SARS-CoV-2 RBD mutational antig Illumina barcode sequencing for expt_115-NHP-serum-1000-escape</td>\n",
       "      <td>AMPLICON</td>\n",
       "      <td>SYNTHETIC</td>\n",
       "      <td>PCR</td>\n",
       "      <td>single</td>\n",
       "      <td>ILLUMINA</td>\n",
       "      <td>Illumina HiSeq 2500</td>\n",
       "      <td>PCR of barcodes from RBD variants</td>\n",
       "      <td>fastq</td>\n",
       "      <td>expt_115_lib2_abneg_S18_R1_001.fastq.gz</td>\n",
       "    </tr>\n",
       "  </tbody>\n",
       "</table>\n",
       "</div>"
      ],
      "text/plain": [
       "  biosample_accession                           library_ID  \\\n",
       "0        SAMN18322429   lib1_expt_107-116-none-0-reference   \n",
       "1        SAMN18322429   lib2_expt_107-116-none-0-reference   \n",
       "2        SAMN18322429  lib1_expt_115-NHP-serum-1000-escape   \n",
       "3        SAMN18322429  lib2_expt_115-NHP-serum-1000-escape   \n",
       "\n",
       "                                                                                            title  \\\n",
       "0   SARS-CoV-2 RBD mutational antig Illumina barcode sequencing for expt_107-116-none-0-reference   \n",
       "1   SARS-CoV-2 RBD mutational antig Illumina barcode sequencing for expt_107-116-none-0-reference   \n",
       "2  SARS-CoV-2 RBD mutational antig Illumina barcode sequencing for expt_115-NHP-serum-1000-escape   \n",
       "3  SARS-CoV-2 RBD mutational antig Illumina barcode sequencing for expt_115-NHP-serum-1000-escape   \n",
       "\n",
       "  library_strategy library_source library_selection library_layout  platform  \\\n",
       "0         AMPLICON      SYNTHETIC               PCR         single  ILLUMINA   \n",
       "1         AMPLICON      SYNTHETIC               PCR         single  ILLUMINA   \n",
       "2         AMPLICON      SYNTHETIC               PCR         single  ILLUMINA   \n",
       "3         AMPLICON      SYNTHETIC               PCR         single  ILLUMINA   \n",
       "\n",
       "      instrument_model                 design_description filetype  \\\n",
       "0  Illumina HiSeq 2500  PCR of barcodes from RBD variants    fastq   \n",
       "1  Illumina HiSeq 2500  PCR of barcodes from RBD variants    fastq   \n",
       "2  Illumina HiSeq 2500  PCR of barcodes from RBD variants    fastq   \n",
       "3  Illumina HiSeq 2500  PCR of barcodes from RBD variants    fastq   \n",
       "\n",
       "                                   filename  \n",
       "0  expt_97-106_lib1_ref_S21_R1_001.fastq.gz  \n",
       "1  expt_97-106_lib2_ref_S22_R1_001.fastq.gz  \n",
       "2   expt_115_lib1_abneg_S17_R1_001.fastq.gz  \n",
       "3   expt_115_lib2_abneg_S18_R1_001.fastq.gz  "
      ]
     },
     "execution_count": 7,
     "metadata": {},
     "output_type": "execute_result"
    }
   ],
   "source": [
    "submissions_wide = (\n",
    "    submissions_tidy\n",
    "    .assign(\n",
    "        filename_count=lambda x: x.groupby(['biosample_accession', 'library_ID'])['filename'].cumcount() + 1,\n",
    "        filename_col=lambda x: 'filename' + x['filename_count'].map(lambda c: str(c) if c > 1 else '')\n",
    "        )\n",
    "    .pivot(\n",
    "        index='library_ID',\n",
    "        columns='filename_col',\n",
    "        values='filename',\n",
    "        )\n",
    "    )\n",
    "\n",
    "submissions_wide = (\n",
    "    submissions_tidy\n",
    "    .drop(columns=['filename_fullpath', 'filename'])\n",
    "    .drop_duplicates()\n",
    "    .merge(submissions_wide[natsort.natsorted(submissions_wide.columns)],\n",
    "           on='library_ID',\n",
    "           validate='one_to_one',\n",
    "           )\n",
    "    )\n",
    "\n",
    "print('Here are the first few submission entries in wide format:')\n",
    "submissions_wide.head()"
   ]
  },
  {
   "cell_type": "markdown",
   "metadata": {},
   "source": [
    "Now write the wide submissions data frame to a `*.tsv` file that can be used for uploading the SRA submission website:"
   ]
  },
  {
   "cell_type": "code",
   "execution_count": 8,
   "metadata": {
    "execution": {
     "iopub.execute_input": "2021-03-17T00:43:26.546403Z",
     "iopub.status.busy": "2021-03-17T00:43:26.546175Z",
     "iopub.status.idle": "2021-03-17T00:43:26.561070Z",
     "shell.execute_reply": "2021-03-17T00:43:26.560293Z",
     "shell.execute_reply.started": "2021-03-17T00:43:26.546379Z"
    }
   },
   "outputs": [],
   "source": [
    "submissions_spreadsheet = 'SRA_submission_spreadsheet.tsv'\n",
    "\n",
    "submissions_wide.to_csv(submissions_spreadsheet, sep='\\t', index=False)"
   ]
  },
  {
   "cell_type": "markdown",
   "metadata": {},
   "source": [
    "We also want to write a file with all of the FASTQ files that are in the submission spreadsheet:"
   ]
  },
  {
   "cell_type": "code",
   "execution_count": 9,
   "metadata": {
    "execution": {
     "iopub.execute_input": "2021-03-17T00:43:26.562513Z",
     "iopub.status.busy": "2021-03-17T00:43:26.562219Z",
     "iopub.status.idle": "2021-03-17T00:43:26.575677Z",
     "shell.execute_reply": "2021-03-17T00:43:26.574697Z",
     "shell.execute_reply.started": "2021-03-17T00:43:26.562484Z"
    }
   },
   "outputs": [
    {
     "name": "stdout",
     "output_type": "stream",
     "text": [
      "Writing list of all the FASTQ files to upload to FASTQs_to_upload.csv\n"
     ]
    }
   ],
   "source": [
    "fastq_file_list = 'FASTQs_to_upload.csv'\n",
    "\n",
    "print(f\"Writing list of all the FASTQ files to upload to {fastq_file_list}\")\n",
    "\n",
    "(submissions_tidy\n",
    " [['filename_fullpath', 'filename']]\n",
    " .to_csv(fastq_file_list, index=False)\n",
    " )"
   ]
  },
  {
   "cell_type": "code",
   "execution_count": null,
   "metadata": {},
   "outputs": [],
   "source": []
  }
 ],
 "metadata": {
  "kernelspec": {
   "display_name": "Python 3",
   "language": "python",
   "name": "python3"
  },
  "language_info": {
   "codemirror_mode": {
    "name": "ipython",
    "version": 3
   },
   "file_extension": ".py",
   "mimetype": "text/x-python",
   "name": "python",
   "nbconvert_exporter": "python",
   "pygments_lexer": "ipython3",
   "version": "3.7.8"
  }
 },
 "nbformat": 4,
 "nbformat_minor": 4
}
