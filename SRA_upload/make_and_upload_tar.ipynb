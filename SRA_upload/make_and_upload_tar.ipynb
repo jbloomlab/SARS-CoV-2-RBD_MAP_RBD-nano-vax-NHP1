{
 "cells": [
  {
   "cell_type": "markdown",
   "metadata": {},
   "source": [
    "# Create TAR file of FASTQs and upload to SRA\n",
    "This Python Jupyter notebook creates a `*.tar` file of the FASTQs and uploads them to the SRA.\n",
    "\n",
    "First, import Python modules:"
   ]
  },
  {
   "cell_type": "code",
   "execution_count": 1,
   "metadata": {
    "execution": {
     "iopub.execute_input": "2021-03-17T00:45:10.572064Z",
     "iopub.status.busy": "2021-03-17T00:45:10.571651Z",
     "iopub.status.idle": "2021-03-17T00:45:11.312792Z",
     "shell.execute_reply": "2021-03-17T00:45:11.311811Z",
     "shell.execute_reply.started": "2021-03-17T00:45:10.571955Z"
    }
   },
   "outputs": [],
   "source": [
    "import datetime\n",
    "import ftplib\n",
    "import os\n",
    "import tarfile\n",
    "\n",
    "import pandas as pd\n",
    "\n",
    "import yaml"
   ]
  },
  {
   "cell_type": "markdown",
   "metadata": {},
   "source": [
    "Read in the FASTQ files to upload:"
   ]
  },
  {
   "cell_type": "code",
   "execution_count": 2,
   "metadata": {
    "execution": {
     "iopub.execute_input": "2021-03-17T00:45:11.314815Z",
     "iopub.status.busy": "2021-03-17T00:45:11.314486Z",
     "iopub.status.idle": "2021-03-17T00:45:11.324619Z",
     "shell.execute_reply": "2021-03-17T00:45:11.323793Z",
     "shell.execute_reply.started": "2021-03-17T00:45:11.314735Z"
    }
   },
   "outputs": [],
   "source": [
    "with open('upload_config.yaml') as f:\n",
    "    config = yaml.safe_load(f)\n",
    "    \n",
    "fastqs = pd.read_csv('FASTQs_to_upload.csv')"
   ]
  },
  {
   "cell_type": "markdown",
   "metadata": {},
   "source": [
    "Now we need to make a `*.tar` file with all of the files.\n",
    "Note that this step **will take a long time to run**."
   ]
  },
  {
   "cell_type": "code",
   "execution_count": 3,
   "metadata": {
    "execution": {
     "iopub.execute_input": "2021-03-17T00:45:11.326135Z",
     "iopub.status.busy": "2021-03-17T00:45:11.325875Z",
     "iopub.status.idle": "2021-03-17T00:45:35.367311Z",
     "shell.execute_reply": "2021-03-17T00:45:35.365405Z",
     "shell.execute_reply.started": "2021-03-17T00:45:11.326104Z"
    }
   },
   "outputs": [
    {
     "name": "stdout",
     "output_type": "stream",
     "text": [
      "Adding file 1 of 4 to SRA_submission.tar\n",
      "Adding file 2 of 4 to SRA_submission.tar\n",
      "Adding file 3 of 4 to SRA_submission.tar\n",
      "Adding file 4 of 4 to SRA_submission.tar\n",
      "Added all files to SRA_submission.tar\n"
     ]
    }
   ],
   "source": [
    "tar_filename = 'SRA_submission.tar'\n",
    "\n",
    "try:\n",
    "    with tarfile.open(tar_filename, mode='w') as f:\n",
    "        for i, tup in enumerate(fastqs.itertuples()):\n",
    "            print(f\"Adding file {i + 1} of {len(fastqs)} to {tar_filename}\")\n",
    "            f.add(tup.filename_fullpath, arcname=tup.filename)\n",
    "        print(f\"Added all files to {tar_filename}\")\n",
    "except:\n",
    "    if os.path.isfile(tar_filename):\n",
    "        os.remove(tar_filename)\n",
    "    raise"
   ]
  },
  {
   "cell_type": "markdown",
   "metadata": {},
   "source": [
    "See the size of the `*.tar` file to upload and make sure it has the expected files:"
   ]
  },
  {
   "cell_type": "code",
   "execution_count": 4,
   "metadata": {
    "execution": {
     "iopub.execute_input": "2021-03-17T00:45:35.371040Z",
     "iopub.status.busy": "2021-03-17T00:45:35.370406Z",
     "iopub.status.idle": "2021-03-17T00:45:35.380979Z",
     "shell.execute_reply": "2021-03-17T00:45:35.380103Z",
     "shell.execute_reply.started": "2021-03-17T00:45:35.370955Z"
    }
   },
   "outputs": [
    {
     "name": "stdout",
     "output_type": "stream",
     "text": [
      "The size of SRA_submission.tar is 4.5 GB\n",
      "SRA_submission.tar contains all 4 expected files.\n"
     ]
    }
   ],
   "source": [
    "print(f\"The size of {tar_filename} is {os.path.getsize(tar_filename) / 1e9:.1f} GB\")\n",
    "\n",
    "with tarfile.open(tar_filename) as f:\n",
    "    files_in_tar = set(f.getnames())\n",
    "if files_in_tar == set(fastqs['filename']):\n",
    "    print(f\"{tar_filename} contains all {len(files_in_tar)} expected files.\")\n",
    "else:\n",
    "    raise ValueError(f\"{tar_filename} does not have all the expected files.\")"
   ]
  },
  {
   "cell_type": "markdown",
   "metadata": {},
   "source": [
    "We now read in the details about doing the FTP upload to the SRA.\n",
    "Note that these are set in separate files already:"
   ]
  },
  {
   "cell_type": "code",
   "execution_count": 6,
   "metadata": {
    "execution": {
     "iopub.execute_input": "2021-03-17T00:46:25.509359Z",
     "iopub.status.busy": "2021-03-17T00:46:25.508945Z",
     "iopub.status.idle": "2021-03-17T00:46:25.518565Z",
     "shell.execute_reply": "2021-03-17T00:46:25.517353Z",
     "shell.execute_reply.started": "2021-03-17T00:46:25.509320Z"
    }
   },
   "outputs": [],
   "source": [
    "# the following are provided by SRA wizard insturctions\n",
    "ftp_address = 'ftp-private.ncbi.nlm.nih.gov'\n",
    "ftp_username = config['ftp_username'].strip()\n",
    "ftp_account_folder = config['ftp_account_folder'].strip()\n",
    "ftp_subfolder = config['ftp_subfolder'].strip()\n",
    "with open('ftp_password.txt') as f:\n",
    "    ftp_password = f.read().strip()"
   ]
  },
  {
   "cell_type": "markdown",
   "metadata": {},
   "source": [
    "Now create FTP connection and upload the TAR file.\n",
    "Note that this takes a while.\n",
    "If you are worried that it will timeout given the size of your file, you can run this notebook via `slurm` so there is no timing out:"
   ]
  },
  {
   "cell_type": "code",
   "execution_count": 7,
   "metadata": {
    "execution": {
     "iopub.execute_input": "2021-03-17T00:46:27.541555Z",
     "iopub.status.busy": "2021-03-17T00:46:27.541038Z",
     "iopub.status.idle": "2021-03-17T01:16:31.454245Z",
     "shell.execute_reply": "2021-03-17T01:16:31.449612Z",
     "shell.execute_reply.started": "2021-03-17T00:46:27.541507Z"
    }
   },
   "outputs": [
    {
     "name": "stdout",
     "output_type": "stream",
     "text": [
      "Starting upload at 2021-03-16 17:46:27.545613\n",
      "Finished upload at 2021-03-16 18:16:31.444496\n"
     ]
    }
   ],
   "source": [
    "print(f\"Starting upload at {datetime.datetime.now()}\")\n",
    "\n",
    "with ftplib.FTP(ftp_address) as ftp:\n",
    "    ftp.login(user=ftp_username,\n",
    "              passwd=ftp_password,\n",
    "              )\n",
    "    ftp.cwd(ftp_account_folder)\n",
    "    ftp.mkd(ftp_subfolder)\n",
    "    ftp.cwd(ftp_subfolder)\n",
    "    with open(tar_filename, 'rb') as f:\n",
    "        ftp.storbinary(f\"STOR {tar_filename}\", f)\n",
    "        \n",
    "print(f\"Finished upload at {datetime.datetime.now()}\")"
   ]
  },
  {
   "cell_type": "code",
   "execution_count": null,
   "metadata": {},
   "outputs": [],
   "source": []
  }
 ],
 "metadata": {
  "kernelspec": {
   "display_name": "Python 3",
   "language": "python",
   "name": "python3"
  },
  "language_info": {
   "codemirror_mode": {
    "name": "ipython",
    "version": 3
   },
   "file_extension": ".py",
   "mimetype": "text/x-python",
   "name": "python",
   "nbconvert_exporter": "python",
   "pygments_lexer": "ipython3",
   "version": "3.7.8"
  }
 },
 "nbformat": 4,
 "nbformat_minor": 4
}
